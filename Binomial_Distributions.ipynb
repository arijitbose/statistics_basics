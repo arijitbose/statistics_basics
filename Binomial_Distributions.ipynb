{
 "cells": [
  {
   "cell_type": "markdown",
   "id": "566923fa",
   "metadata": {},
   "source": [
    "# The Binomial or Bernoulli Distribution\n",
    "<p> Suppose that we have an experiment such as tossing a coin or die repeatedly, choosing a marble from an urn repeatedly, etc.Each toss or selection is called a trial. In any single trail there will be a probability associated with a particular event such as head on the coin, 4 on the die or selection of a red marble.In some cases this probability will not change from one trail to the next.Such trials are said to be independent and are oftern called Bernoulli trials.\n",
    "Let p be the probability that an event will happen in any of the single Bernoulli trial(called the probability of success). Then q=1-p is the probability that the event will fail to happen in any single trial(called the probabilty of failure). The  probablity that an event will happen exactly x times in n trilas is giben by the probablity function.</p>\n",
    "\n",
    "\n",
    "$f(x)$ =$P(X=x)$ = ${n\\choose x}p^{x}q^{n-x}$ = $\\frac{n!}{x!(n-x)!}p^{x}q^{n-x}$\n",
    "\n",
    "<p>where random variable X denotes the number of success in n trials and $x =0,1,2,...,n$.</p>\n",
    "<p> Find the probabilty of getting exactly 2 heads in 6 tosses of a fair coin.</p>\n",
    "$ P(X=2)$ =$ {6\\choose 2}(\\frac{1}{2})^{2}(\\frac{1}{2})^{6-2}=\\frac{6!}{2!4!}(\\frac{1}{2})^{2}(\\frac{1}{2})^{4}=\\frac{15}{64}$"
   ]
  },
  {
   "cell_type": "markdown",
   "id": "c6368982",
   "metadata": {},
   "source": [
    "<p> Pythonic way to find the above answer.</p>\n"
   ]
  },
  {
   "cell_type": "code",
   "execution_count": 2,
   "id": "dccecfb3",
   "metadata": {},
   "outputs": [
    {
     "data": {
      "text/plain": [
       "0.23437500000000003"
      ]
     },
     "execution_count": 2,
     "metadata": {},
     "output_type": "execute_result"
    }
   ],
   "source": [
    "import scipy\n",
    "from scipy.stats import binom\n",
    "binom.pmf(2,6,0.5) # Here first parameter is the number of heads, second is the number of trials, third is probabilty of success"
   ]
  },
  {
   "cell_type": "markdown",
   "id": "469b3066",
   "metadata": {},
   "source": [
    "<p> Some problems on Binomial Distrubution.</p>"
   ]
  },
  {
   "cell_type": "markdown",
   "id": "7f211960",
   "metadata": {},
   "source": [
    "</p> 1.Find the probabilty that in tossing a fair coin 3 times there will appear \n",
    "\n",
    "a) 3 Heads\n",
    "\n",
    "b) 2 tails and 1 head\n",
    "\n",
    "c) At least 1 head\n",
    "\n",
    "d) not more than 1 tail .</p>"
   ]
  },
  {
   "cell_type": "code",
   "execution_count": 17,
   "id": "0bd626e7",
   "metadata": {},
   "outputs": [
    {
     "data": {
      "text/plain": [
       "0.125"
      ]
     },
     "execution_count": 17,
     "metadata": {},
     "output_type": "execute_result"
    }
   ],
   "source": [
    "# 1a\n",
    "binom.pmf(3,3,0.5)"
   ]
  },
  {
   "cell_type": "code",
   "execution_count": 23,
   "id": "4ad3aa47",
   "metadata": {},
   "outputs": [
    {
     "data": {
      "text/plain": [
       "0.3750000000000001"
      ]
     },
     "execution_count": 23,
     "metadata": {},
     "output_type": "execute_result"
    }
   ],
   "source": [
    "#1b\n",
    "binom.pmf(1,3,0.5)# Here first parameter is the number of heads, second is the number of trials, third is probabilty of success"
   ]
  },
  {
   "cell_type": "code",
   "execution_count": 43,
   "id": "b64bce78",
   "metadata": {},
   "outputs": [
    {
     "data": {
      "text/plain": [
       "0.8750000000000002"
      ]
     },
     "execution_count": 43,
     "metadata": {},
     "output_type": "execute_result"
    }
   ],
   "source": [
    "# 1c\n",
    "binom.pmf(1,3,0.5)+binom.pmf(2,3,0.5)+binom.pmf(3,3,0.5)"
   ]
  },
  {
   "cell_type": "code",
   "execution_count": 35,
   "id": "86e02633",
   "metadata": {},
   "outputs": [
    {
     "data": {
      "text/plain": [
       "0.875"
      ]
     },
     "execution_count": 35,
     "metadata": {},
     "output_type": "execute_result"
    }
   ],
   "source": [
    "# 1c Alternate solution\n",
    "1- binom.pmf(0,3,0.5)"
   ]
  },
  {
   "cell_type": "code",
   "execution_count": 41,
   "id": "82910f3f",
   "metadata": {},
   "outputs": [
    {
     "data": {
      "text/plain": [
       "0.875"
      ]
     },
     "execution_count": 41,
     "metadata": {},
     "output_type": "execute_result"
    }
   ],
   "source": [
    "# 1c Alternate solution\n",
    "1-binom.cdf(0,3,0.5)"
   ]
  },
  {
   "cell_type": "code",
   "execution_count": 42,
   "id": "1ad41500",
   "metadata": {},
   "outputs": [
    {
     "data": {
      "text/plain": [
       "0.5"
      ]
     },
     "execution_count": 42,
     "metadata": {},
     "output_type": "execute_result"
    }
   ],
   "source": [
    "#1d\n",
    "binom.cdf(1,3,0.5)"
   ]
  },
  {
   "cell_type": "markdown",
   "id": "53bafe38",
   "metadata": {},
   "source": [
    "</p>2.Find the probabilty that in 5 tosses of a fair die a 3 appears\n",
    "\n",
    "a) twice\n",
    "\n",
    "b) at most once\n",
    "\n",
    "c) at least two times <p>"
   ]
  },
  {
   "cell_type": "code",
   "execution_count": 46,
   "id": "75d9a598",
   "metadata": {},
   "outputs": [
    {
     "data": {
      "text/plain": [
       "0.16075102880658423"
      ]
     },
     "execution_count": 46,
     "metadata": {},
     "output_type": "execute_result"
    }
   ],
   "source": [
    "#2a\n",
    "binom.pmf(2,5,1/6) # Here 2 is the frequency of 3 appearing,\n",
    "#5 is the no of trials and 1/6 is Probabilty of 3 appearing in a throw"
   ]
  },
  {
   "cell_type": "code",
   "execution_count": 47,
   "id": "2fb7126f",
   "metadata": {},
   "outputs": [
    {
     "data": {
      "text/plain": [
       "0.8037551440329218"
      ]
     },
     "execution_count": 47,
     "metadata": {},
     "output_type": "execute_result"
    }
   ],
   "source": [
    "#2b\n",
    "binom.cdf(1,5,1/6)"
   ]
  },
  {
   "cell_type": "markdown",
   "id": "1e1eed50",
   "metadata": {},
   "source": [
    "2c. P( 3 occurs atleast 2 times)\n",
    "    =$P(X\\ge2)$\n",
    "    =$P(X=2)$+$P(X=3)$+$P(X=4)$+$P(X=5)$"
   ]
  },
  {
   "cell_type": "code",
   "execution_count": 3,
   "id": "74cdaf31",
   "metadata": {},
   "outputs": [
    {
     "data": {
      "text/plain": [
       "0.19624485596707805"
      ]
     },
     "execution_count": 3,
     "metadata": {},
     "output_type": "execute_result"
    }
   ],
   "source": [
    "#2c\n",
    "\n",
    "binom.pmf(2,5,1/6)+binom.pmf(3,5,1/6)+binom.pmf(4,5,1/6)+binom.pmf(5,5,1/6)"
   ]
  }
 ],
 "metadata": {
  "kernelspec": {
   "display_name": "Python 3 (ipykernel)",
   "language": "python",
   "name": "python3"
  },
  "language_info": {
   "codemirror_mode": {
    "name": "ipython",
    "version": 3
   },
   "file_extension": ".py",
   "mimetype": "text/x-python",
   "name": "python",
   "nbconvert_exporter": "python",
   "pygments_lexer": "ipython3",
   "version": "3.9.13"
  },
  "vscode": {
   "interpreter": {
    "hash": "23b4a3e8622309bcc6db3d5cc6eb73d60ab98d9ec23bad6a26b709981ccb403a"
   }
  }
 },
 "nbformat": 4,
 "nbformat_minor": 5
}
